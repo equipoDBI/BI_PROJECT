{
 "cells": [
  {
   "cell_type": "markdown",
   "metadata": {},
   "source": [
    "# **SVR MultiEntrada - Empresa Buenaventura**\n",
    "#### **Curso:** Inteligencia de Negocios\n",
    "#### **Docente:**  Mg. Ernesto D. Cancho Rodríguez\n",
    "#### **Equipo:** D\n",
    "#### **Integrantes:**\n",
    "*   Hurtado Santos, Estiven Salvador - 20200135\n",
    "*   López Terrones, Ximena Xiomy - 20200020\n",
    "*   Llactahuaman Muguerza, Anthony Joel - 20200091\n",
    "*   Mondragón Zúñiga, Rubén Alberto - 20200082\n",
    "*   Morales Robladillo, Nicole Maria - 20200136\n",
    "*   Aquije Vásquez, Carlos Adrian - 19200319\n",
    "*   Cespedes Flores, Sebastian - 1820025"
   ]
  },
  {
   "cell_type": "code",
   "execution_count": 1,
   "metadata": {},
   "outputs": [],
   "source": [
    "import joblib\n",
    "import pandas as pd\n",
    "import datetime\n",
    "import numpy as np\n",
    "import matplotlib.pyplot as plt\n",
    "import seaborn as sns\n",
    "import numpy as np\n",
    "from scipy.stats import norm\n",
    "from sklearn.model_selection import train_test_split\n",
    "from sklearn.preprocessing import StandardScaler\n",
    "from scipy import stats\n",
    "from sklearn.svm import SVC, SVR\n",
    "from sklearn.metrics import accuracy_score\n",
    "from scipy.ndimage import shift\n",
    "# Importamos la librería nueva\n",
    "import yfinance as yf"
   ]
  },
  {
   "cell_type": "code",
   "execution_count": 2,
   "metadata": {},
   "outputs": [],
   "source": [
    "instrumentoFinanciero = 'BVN'\n",
    "fechaInicioEntrenamiento = datetime.date(2018, 1, 1)\n",
    "fechaFinEntrenamiento = datetime.date(2022, 1, 1)"
   ]
  },
  {
   "cell_type": "code",
   "execution_count": 3,
   "metadata": {},
   "outputs": [
    {
     "name": "stdout",
     "output_type": "stream",
     "text": [
      "[*********************100%***********************]  1 of 1 completed\n",
      "[*********************100%***********************]  1 of 1 completed\n",
      "[*********************100%***********************]  1 of 1 completed\n",
      "[*********************100%***********************]  1 of 1 completed\n",
      "[*********************100%***********************]  1 of 1 completed\n",
      "[*********************100%***********************]  1 of 1 completed\n",
      "[*********************100%***********************]  1 of 1 completed\n",
      "[*********************100%***********************]  1 of 1 completed\n",
      "[*********************100%***********************]  1 of 1 completed\n"
     ]
    }
   ],
   "source": [
    "IF_df = yf.download(instrumentoFinanciero, start=fechaInicioEntrenamiento, end=fechaFinEntrenamiento)\n",
    "IF_df.columns += \"_\" + instrumentoFinanciero\n",
    "GLD_data = yf.download('GLD', start=fechaInicioEntrenamiento, end=fechaFinEntrenamiento)\n",
    "GLD_data.columns += \"_GLD\"\n",
    "SLV_data = yf.download('SLV', start=fechaInicioEntrenamiento, end=fechaFinEntrenamiento)\n",
    "SLV_data.columns += \"_SLV\"\n",
    "COPX_data = yf.download('COPX', start=fechaInicioEntrenamiento, end=fechaFinEntrenamiento)\n",
    "COPX_data.columns += \"_COPX\"\n",
    "GSPC_data = yf.download('^GSPC', start=fechaInicioEntrenamiento, end=fechaFinEntrenamiento)\n",
    "GSPC_data.columns += \"_GSPC\"\n",
    "IXIC_data = yf.download('^IXIC', start=fechaInicioEntrenamiento, end=fechaFinEntrenamiento)\n",
    "IXIC_data.columns += \"_IXIC\"\n",
    "DJI_data = yf.download('^DJI', start=fechaInicioEntrenamiento, end=fechaFinEntrenamiento)\n",
    "DJI_data.columns += \"_DJI\"\n",
    "PEN_X_data = yf.download('PEN=X', start=fechaInicioEntrenamiento, end=fechaFinEntrenamiento)\n",
    "PEN_X_data.columns += \"_PEN_X\"\n",
    "BZ_F_data = yf.download('BZ=F', start=fechaInicioEntrenamiento, end=fechaFinEntrenamiento)\n",
    "BZ_F_data.columns += \"_BZ_F\"\n",
    "df_train = pd.merge(IF_df, GLD_data, on='Date')\n",
    "df_train = pd.merge(df_train, SLV_data, on='Date')\n",
    "df_train = pd.merge(df_train, COPX_data, on='Date')\n",
    "df_train = pd.merge(df_train, GSPC_data, on='Date')\n",
    "df_train = pd.merge(df_train, IXIC_data, on='Date')\n",
    "df_train = pd.merge(df_train, DJI_data, on='Date')\n",
    "df_train = pd.merge(df_train, PEN_X_data, on='Date')\n",
    "df_train = pd.merge(df_train, BZ_F_data, on='Date')\n",
    "df_train = df_train.drop(['Volume_PEN_X'], axis=1)"
   ]
  },
  {
   "cell_type": "code",
   "execution_count": 4,
   "metadata": {},
   "outputs": [],
   "source": [
    "escala = StandardScaler()\n",
    "df_train = df_train.dropna(how='any')\n",
    "nombreCloseInstrumentoFinanciero = \"Close_\" + instrumentoFinanciero\n",
    "X_train = escala.fit_transform(df_train.drop([nombreCloseInstrumentoFinanciero], axis=1))\n",
    "y_train = df_train[nombreCloseInstrumentoFinanciero]\n",
    "modeloEntrenado = SVR().fit(X_train, y_train)"
   ]
  },
  {
   "cell_type": "code",
   "execution_count": 5,
   "metadata": {},
   "outputs": [],
   "source": [
    "fechaInicioPrediccion = datetime.date(2023, 6, 7)\n",
    "fechaFinPrediccion = datetime.date(2023, 7, 7)"
   ]
  },
  {
   "cell_type": "code",
   "execution_count": 6,
   "metadata": {},
   "outputs": [
    {
     "name": "stdout",
     "output_type": "stream",
     "text": [
      "[*********************100%***********************]  1 of 1 completed\n",
      "[*********************100%***********************]  1 of 1 completed\n",
      "[*********************100%***********************]  1 of 1 completed\n",
      "[*********************100%***********************]  1 of 1 completed\n",
      "[*********************100%***********************]  1 of 1 completed\n",
      "[*********************100%***********************]  1 of 1 completed\n",
      "[*********************100%***********************]  1 of 1 completed\n",
      "[*********************100%***********************]  1 of 1 completed\n",
      "[*********************100%***********************]  1 of 1 completed\n"
     ]
    }
   ],
   "source": [
    "IF_df = yf.download(instrumentoFinanciero, start=fechaInicioPrediccion, end=fechaFinPrediccion)\n",
    "IF_df.columns += \"_\" + instrumentoFinanciero\n",
    "GLD_data = yf.download('GLD', start=fechaInicioPrediccion, end=fechaFinPrediccion)\n",
    "GLD_data.columns += \"_GLD\"\n",
    "SLV_data = yf.download('SLV', start=fechaInicioPrediccion, end=fechaFinPrediccion)\n",
    "SLV_data.columns += \"_SLV\"\n",
    "COPX_data = yf.download('COPX', start=fechaInicioPrediccion, end=fechaFinPrediccion)\n",
    "COPX_data.columns += \"_COPX\"\n",
    "GSPC_data = yf.download('^GSPC', start=fechaInicioPrediccion, end=fechaFinPrediccion)\n",
    "GSPC_data.columns += \"_GSPC\"\n",
    "IXIC_data = yf.download('^IXIC', start=fechaInicioPrediccion, end=fechaFinPrediccion)\n",
    "IXIC_data.columns += \"_IXIC\"\n",
    "DJI_data = yf.download('^DJI', start=fechaInicioPrediccion, end=fechaFinPrediccion)\n",
    "DJI_data.columns += \"_DJI\"\n",
    "PEN_X_data = yf.download('PEN=X', start=fechaInicioPrediccion, end=fechaFinPrediccion)\n",
    "PEN_X_data.columns += \"_PEN_X\"\n",
    "BZ_F_data = yf.download('BZ=F', start=fechaInicioPrediccion, end=fechaFinPrediccion)\n",
    "BZ_F_data.columns += \"_BZ_F\"\n",
    "df_test = pd.merge(IF_df, GLD_data, on='Date')\n",
    "df_test = pd.merge(df_test, SLV_data, on='Date')\n",
    "df_test = pd.merge(df_test, COPX_data, on='Date')\n",
    "df_test = pd.merge(df_test, GSPC_data, on='Date')\n",
    "df_test = pd.merge(df_test, IXIC_data, on='Date')\n",
    "df_test = pd.merge(df_test, DJI_data, on='Date')\n",
    "df_test = pd.merge(df_test, PEN_X_data, on='Date')\n",
    "df_test = pd.merge(df_test, BZ_F_data, on='Date')\n",
    "df_test = df_test.drop(['Volume_PEN_X'], axis=1)"
   ]
  },
  {
   "cell_type": "code",
   "execution_count": 7,
   "metadata": {},
   "outputs": [],
   "source": [
    "df_test = df_test.dropna(how='any')\n",
    "X_test = escala.fit_transform(df_test.drop([nombreCloseInstrumentoFinanciero], axis=1))\n",
    "y_test = df_test[nombreCloseInstrumentoFinanciero]\n",
    "# Se predice el valor de close\n",
    "resultado = modeloEntrenado.predict(X_test)"
   ]
  },
  {
   "cell_type": "code",
   "execution_count": 8,
   "metadata": {},
   "outputs": [
    {
     "data": {
      "text/plain": [
       "Date\n",
       "2023-06-07    7.28\n",
       "2023-06-08    7.57\n",
       "2023-06-09    7.06\n",
       "2023-06-12    7.08\n",
       "2023-06-13    7.20\n",
       "2023-06-14    7.36\n",
       "2023-06-15    7.41\n",
       "2023-06-16    7.51\n",
       "2023-06-20    7.49\n",
       "2023-06-21    7.51\n",
       "2023-06-22    7.48\n",
       "2023-06-23    7.44\n",
       "2023-06-26    7.51\n",
       "2023-06-27    7.22\n",
       "2023-06-28    7.18\n",
       "2023-06-29    7.18\n",
       "2023-06-30    7.35\n",
       "2023-07-03    7.47\n",
       "2023-07-05    7.37\n",
       "2023-07-06    7.28\n",
       "Name: Close_BVN, dtype: float64"
      ]
     },
     "execution_count": 8,
     "metadata": {},
     "output_type": "execute_result"
    }
   ],
   "source": [
    "y_test"
   ]
  },
  {
   "cell_type": "code",
   "execution_count": 9,
   "metadata": {},
   "outputs": [
    {
     "data": {
      "text/plain": [
       "0     11.153525\n",
       "1     12.452384\n",
       "2     11.377219\n",
       "3      9.457535\n",
       "4     10.320043\n",
       "5     12.473647\n",
       "6     12.400355\n",
       "7     12.207322\n",
       "8     13.702824\n",
       "9     14.362253\n",
       "10    13.716418\n",
       "11    14.054767\n",
       "12    14.794411\n",
       "13    12.119270\n",
       "14    10.098235\n",
       "15    10.106104\n",
       "16    11.114304\n",
       "17    12.384089\n",
       "18    12.256950\n",
       "19    11.195297\n",
       "dtype: float64"
      ]
     },
     "execution_count": 9,
     "metadata": {},
     "output_type": "execute_result"
    }
   ],
   "source": [
    "resultado = pd.Series(resultado)\n",
    "resultado"
   ]
  },
  {
   "cell_type": "code",
   "execution_count": 10,
   "metadata": {},
   "outputs": [
    {
     "data": {
      "text/plain": [
       "0     0.000000\n",
       "1     0.116453\n",
       "2    -0.086342\n",
       "3    -0.168730\n",
       "4     0.091198\n",
       "5     0.208682\n",
       "6    -0.005876\n",
       "7    -0.015567\n",
       "8     0.122509\n",
       "9     0.048124\n",
       "10   -0.044968\n",
       "11    0.024668\n",
       "12    0.052626\n",
       "13   -0.180821\n",
       "14   -0.166762\n",
       "15    0.000779\n",
       "16    0.099761\n",
       "17    0.114248\n",
       "18   -0.010266\n",
       "19   -0.086616\n",
       "dtype: float64"
      ]
     },
     "execution_count": 10,
     "metadata": {},
     "output_type": "execute_result"
    }
   ],
   "source": [
    "retorno = resultado.pct_change()\n",
    "retorno = retorno.fillna(0)\n",
    "retorno"
   ]
  },
  {
   "cell_type": "code",
   "execution_count": 11,
   "metadata": {},
   "outputs": [
    {
     "data": {
      "text/plain": [
       "array([1, 0, 0, 1, 1, 0, 0, 1, 1, 0, 1, 1, 0, 0, 1, 1, 1, 0, 0, 0])"
      ]
     },
     "execution_count": 11,
     "metadata": {},
     "output_type": "execute_result"
    }
   ],
   "source": [
    "trend = np.where(retorno > 0.00, 1, 0)\n",
    "trend = np.roll(trend, -1)\n",
    "trend"
   ]
  }
 ],
 "metadata": {
  "kernelspec": {
   "display_name": "Python 3 (ipykernel)",
   "language": "python",
   "name": "python3"
  },
  "language_info": {
   "codemirror_mode": {
    "name": "ipython",
    "version": 3
   },
   "file_extension": ".py",
   "mimetype": "text/x-python",
   "name": "python",
   "nbconvert_exporter": "python",
   "pygments_lexer": "ipython3",
   "version": "3.10.9"
  }
 },
 "nbformat": 4,
 "nbformat_minor": 2
}
